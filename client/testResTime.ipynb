{
 "cells": [
  {
   "cell_type": "code",
   "execution_count": 34,
   "metadata": {},
   "outputs": [],
   "source": [
    "## read json\n",
    "import json\n",
    "import time\n",
    "jsonIn = json.load(open(\"test.json\", \"r\"))"
   ]
  },
  {
   "cell_type": "code",
   "execution_count": 18,
   "metadata": {},
   "outputs": [],
   "source": [
    "# define gRPC protocol\n",
    "import grpc\n",
    "import gRPC.coffee_pb2 as coffee_pb2\n",
    "import gRPC.coffee_pb2_grpc as coffee_pb2_grpc\n",
    "\n",
    "def run(jsonIn):\n",
    "    with grpc.insecure_channel('localhost:50051') as channel:\n",
    "        request = json.dumps(jsonIn)\n",
    "        stub = coffee_pb2_grpc.CoffeeStub(channel)\n",
    "        request = coffee_pb2.CoffeeRequest(requestJsonStr=request)\n",
    "        print(\"calling server\")\n",
    "        response = stub.OrderCoffee(request)\n",
    "        response = json.loads(response.responseJsonStr)\n",
    "        return response"
   ]
  },
  {
   "cell_type": "code",
   "execution_count": 51,
   "metadata": {},
   "outputs": [
    {
     "data": {
      "text/plain": [
       "'<!doctype html>\\n<html lang=en>\\n<title>400 Bad Request</title>\\n<h1>Bad Request</h1>\\n<p>The browser (or proxy) sent a request that this server could not understand.</p>\\n'"
      ]
     },
     "execution_count": 51,
     "metadata": {},
     "output_type": "execute_result"
    }
   ],
   "source": [
    "# define rest protocol\n",
    "import requests\n",
    "def request(jsonIn):\n",
    "    url = \"http://127.0.0.1:5050\"\n",
    "    headers = {'content-type': 'application/json'}\n",
    "    request = json.dumps(jsonIn)\n",
    "    response = requests.post(url=url, data=request, headers=headers)\n",
    "    response = json.loads(response.text)\n",
    "    return response\n",
    "\n",
    "request(jsonIn).text"
   ]
  },
  {
   "cell_type": "code",
   "execution_count": 30,
   "metadata": {},
   "outputs": [
    {
     "name": "stdout",
     "output_type": "stream",
     "text": [
      "-------------- start grpc test -------------\n",
      "calling server\n",
      "response:  {'test': 'hello'}\n",
      "USED_TIME : 0.0039\n",
      "-------------- end grpc test ---------------\n"
     ]
    }
   ],
   "source": [
    "#grpc_test\n",
    "print(\"-------------- start grpc test -------------\")\n",
    "start = time.time()\n",
    "print(\"response: \", run(jsonIn))\n",
    "end = time.time()\n",
    "print(f\"USED_TIME : {end-start:.4f}\")\n",
    "print(\"-------------- end grpc test ---------------\")"
   ]
  },
  {
   "cell_type": "code",
   "execution_count": null,
   "metadata": {},
   "outputs": [],
   "source": []
  }
 ],
 "metadata": {
  "kernelspec": {
   "display_name": "grpc",
   "language": "python",
   "name": "python3"
  },
  "language_info": {
   "codemirror_mode": {
    "name": "ipython",
    "version": 3
   },
   "file_extension": ".py",
   "mimetype": "text/x-python",
   "name": "python",
   "nbconvert_exporter": "python",
   "pygments_lexer": "ipython3",
   "version": "3.8.15"
  },
  "orig_nbformat": 4,
  "vscode": {
   "interpreter": {
    "hash": "777ecb1311ddaf6be85140a9b33936af7f2b2799d833316d99b5a467442debe6"
   }
  }
 },
 "nbformat": 4,
 "nbformat_minor": 2
}
