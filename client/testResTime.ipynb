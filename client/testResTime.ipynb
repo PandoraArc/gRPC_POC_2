{
 "cells": [
  {
   "cell_type": "code",
   "execution_count": 65,
   "metadata": {},
   "outputs": [],
   "source": [
    "## read json\n",
    "import json\n",
    "import time\n",
    "jsonIn = json.load(open(\"test.json\", \"r\"))"
   ]
  },
  {
   "cell_type": "code",
   "execution_count": 66,
   "metadata": {},
   "outputs": [],
   "source": [
    "# define gRPC protocol\n",
    "import grpc\n",
    "import gRPC.coffee_pb2 as coffee_pb2\n",
    "import gRPC.coffee_pb2_grpc as coffee_pb2_grpc\n",
    "\n",
    "def run(jsonIn):\n",
    "    with grpc.insecure_channel('localhost:50051') as channel:\n",
    "        request = json.dumps(jsonIn)\n",
    "        stub = coffee_pb2_grpc.CoffeeStub(channel)\n",
    "        request = coffee_pb2.CoffeeRequest(requestJsonStr=request)\n",
    "        print(\"calling server\")\n",
    "        response = stub.OrderCoffee(request)\n",
    "        response = json.loads(response.responseJsonStr)\n",
    "        return response"
   ]
  },
  {
   "cell_type": "code",
   "execution_count": 67,
   "metadata": {},
   "outputs": [],
   "source": [
    "# define rest protocol\n",
    "import requests\n",
    "def request(jsonIn):\n",
    "    url = \"http://127.0.0.1:5050\"\n",
    "    headers = {'content-type': 'application/json'}\n",
    "    request = json.dumps(jsonIn)\n",
    "    response = requests.post(url=url, data=request, headers=headers)\n",
    "    response = json.loads(response.text)\n",
    "    return response"
   ]
  },
  {
   "cell_type": "code",
   "execution_count": 68,
   "metadata": {},
   "outputs": [
    {
     "name": "stdout",
     "output_type": "stream",
     "text": [
      "-------------- start rest test -------------\n",
      "response:  {'test': 'hello'}\n",
      "USED_TIME : 0.0034\n",
      "-------------- end rest test ---------------\n"
     ]
    }
   ],
   "source": [
    "#grpc_test\n",
    "print(\"-------------- start rest test -------------\")\n",
    "start = time.time()\n",
    "print(\"response: \", request(jsonIn))\n",
    "end = time.time()\n",
    "print(f\"USED_TIME : {end-start:.4f}\")\n",
    "print(\"-------------- end rest test ---------------\")"
   ]
  },
  {
   "cell_type": "code",
   "execution_count": 69,
   "metadata": {},
   "outputs": [
    {
     "name": "stdout",
     "output_type": "stream",
     "text": [
      "-------------- start grpc test -------------\n",
      "calling server\n",
      "response:  {'test': 'hello'}\n",
      "USED_TIME : 0.0033\n",
      "-------------- end grpc test ---------------\n"
     ]
    }
   ],
   "source": [
    "#grpc_test\n",
    "print(\"-------------- start grpc test -------------\")\n",
    "start = time.time()\n",
    "print(\"response: \", run(jsonIn))\n",
    "end = time.time()\n",
    "print(f\"USED_TIME : {end-start:.4f}\")\n",
    "print(\"-------------- end grpc test ---------------\")"
   ]
  },
  {
   "cell_type": "code",
   "execution_count": null,
   "metadata": {},
   "outputs": [],
   "source": []
  }
 ],
 "metadata": {
  "kernelspec": {
   "display_name": "grpc",
   "language": "python",
   "name": "python3"
  },
  "language_info": {
   "codemirror_mode": {
    "name": "ipython",
    "version": 3
   },
   "file_extension": ".py",
   "mimetype": "text/x-python",
   "name": "python",
   "nbconvert_exporter": "python",
   "pygments_lexer": "ipython3",
   "version": "3.8.15"
  },
  "orig_nbformat": 4,
  "vscode": {
   "interpreter": {
    "hash": "777ecb1311ddaf6be85140a9b33936af7f2b2799d833316d99b5a467442debe6"
   }
  }
 },
 "nbformat": 4,
 "nbformat_minor": 2
}
